{
  "cells": [
    {
      "cell_type": "code",
      "execution_count": null,
      "id": "11558a4d-98ce-45d3-a91b-0cf377e1804b",
      "metadata": {
        "colab": {
          "base_uri": "https://localhost:8080/"
        },
        "id": "11558a4d-98ce-45d3-a91b-0cf377e1804b",
        "outputId": "fb5a1e11-d166-4b9e-df1e-ef213b2766fa"
      },
      "outputs": [
        {
          "output_type": "stream",
          "name": "stdout",
          "text": [
            "  % Total    % Received % Xferd  Average Speed   Time    Time     Time  Current\n",
            "                                 Dload  Upload   Total   Spent    Left  Speed\n",
            "100  593k  100  593k    0     0   751k      0 --:--:-- --:--:-- --:--:--  750k\n"
          ]
        }
      ],
      "source": [
        "!curl https://www.gutenberg.org/files/1661/1661-0.txt -o book.txt"
      ]
    },
    {
      "cell_type": "code",
      "execution_count": null,
      "id": "00225486-a2fc-4287-bfb6-cfa15800e192",
      "metadata": {
        "id": "00225486-a2fc-4287-bfb6-cfa15800e192"
      },
      "outputs": [],
      "source": [
        "text = open('book.txt', 'r', encoding = 'utf-8').read()\n",
        "text = text.lower()"
      ]
    },
    {
      "cell_type": "code",
      "execution_count": null,
      "id": "a42e43f8-313f-4aa6-ba98-560078b8a6f2",
      "metadata": {
        "id": "a42e43f8-313f-4aa6-ba98-560078b8a6f2"
      },
      "outputs": [],
      "source": [
        "sentences = text.split('\\n')"
      ]
    },
    {
      "cell_type": "code",
      "execution_count": null,
      "id": "21a4b909-a7c3-4e38-86db-ddd966f865ad",
      "metadata": {
        "id": "21a4b909-a7c3-4e38-86db-ddd966f865ad"
      },
      "outputs": [],
      "source": [
        "import tensorflow as tf\n",
        "import keras\n",
        "from tensorflow.keras.preprocessing.text import Tokenizer\n",
        "from tensorflow.keras.preprocessing.sequence import pad_sequences"
      ]
    },
    {
      "cell_type": "code",
      "execution_count": null,
      "id": "61f3757a-b532-41a3-ab17-c83de7dc5def",
      "metadata": {
        "colab": {
          "base_uri": "https://localhost:8080/"
        },
        "id": "61f3757a-b532-41a3-ab17-c83de7dc5def",
        "outputId": "445cdc1a-3ea1-43d9-a663-9980a11590b1"
      },
      "outputs": [
        {
          "output_type": "execute_result",
          "data": {
            "text/plain": [
              "8923"
            ]
          },
          "metadata": {},
          "execution_count": 5
        }
      ],
      "source": [
        "tokenizer = Tokenizer(oov_token = '<UNK>')\n",
        "tokenizer.fit_on_texts(sentences)\n",
        "vocab_size = len(tokenizer.word_index) + 1\n",
        "vocab_size"
      ]
    },
    {
      "cell_type": "code",
      "execution_count": null,
      "id": "6deda25c-f23a-4bf9-916d-28b34a245b68",
      "metadata": {
        "id": "6deda25c-f23a-4bf9-916d-28b34a245b68"
      },
      "outputs": [],
      "source": [
        "sequences = tokenizer.texts_to_sequences(sentences)"
      ]
    },
    {
      "cell_type": "code",
      "execution_count": null,
      "id": "59f468be-b54f-4b7d-adb8-301869578130",
      "metadata": {
        "id": "59f468be-b54f-4b7d-adb8-301869578130"
      },
      "outputs": [],
      "source": [
        "input_sequences = []\n",
        "for sequence in sequences:\n",
        "    for i in range(len(sequence)):\n",
        "        n_gram_seq = sequence[:i+1]\n",
        "        input_sequences.append(n_gram_seq)"
      ]
    },
    {
      "cell_type": "code",
      "execution_count": null,
      "id": "9e675afc-6177-4253-8a05-678f84ccb7c1",
      "metadata": {
        "colab": {
          "base_uri": "https://localhost:8080/"
        },
        "id": "9e675afc-6177-4253-8a05-678f84ccb7c1",
        "outputId": "3b3914e9-8c59-434c-8c8c-43844d2e8ac6"
      },
      "outputs": [
        {
          "output_type": "execute_result",
          "data": {
            "text/plain": [
              "20"
            ]
          },
          "metadata": {},
          "execution_count": 8
        }
      ],
      "source": [
        "max_seq_len = max(len(seq) for seq in input_sequences)\n",
        "max_seq_len"
      ]
    },
    {
      "cell_type": "code",
      "execution_count": null,
      "id": "a4f58843-e8b7-4135-b81e-c5697401e06a",
      "metadata": {
        "id": "a4f58843-e8b7-4135-b81e-c5697401e06a"
      },
      "outputs": [],
      "source": [
        "padded_seq = pad_sequences(input_sequences, max_seq_len)"
      ]
    },
    {
      "cell_type": "code",
      "execution_count": null,
      "id": "a13464dd-79f5-45af-b878-62016154faf1",
      "metadata": {
        "id": "a13464dd-79f5-45af-b878-62016154faf1"
      },
      "outputs": [],
      "source": [
        "import numpy as np"
      ]
    },
    {
      "cell_type": "code",
      "execution_count": null,
      "id": "7fe52988-d685-4f16-a2fa-e9606a86c87a",
      "metadata": {
        "id": "7fe52988-d685-4f16-a2fa-e9606a86c87a"
      },
      "outputs": [],
      "source": [
        "padded_seq = np.array(padded_seq)"
      ]
    },
    {
      "cell_type": "code",
      "execution_count": null,
      "id": "8d0a13a4-bab3-40fa-b804-a8090695042b",
      "metadata": {
        "id": "8d0a13a4-bab3-40fa-b804-a8090695042b"
      },
      "outputs": [],
      "source": [
        "x = padded_seq[:,:-1]\n",
        "y = padded_seq[:,-1]"
      ]
    },
    {
      "cell_type": "code",
      "execution_count": null,
      "id": "ecec97e2-80bc-4f9d-8093-8536f1d7f413",
      "metadata": {
        "colab": {
          "base_uri": "https://localhost:8080/"
        },
        "id": "ecec97e2-80bc-4f9d-8093-8536f1d7f413",
        "outputId": "742d9069-62ae-46a9-8d08-2198d26bc10d"
      },
      "outputs": [
        {
          "output_type": "execute_result",
          "data": {
            "text/plain": [
              "((111152, 19), (111152,))"
            ]
          },
          "metadata": {},
          "execution_count": 13
        }
      ],
      "source": [
        "x.shape, y.shape"
      ]
    },
    {
      "cell_type": "code",
      "execution_count": null,
      "id": "ae2ad263-16d1-47e7-9a6d-d54530e5b2c5",
      "metadata": {
        "id": "ae2ad263-16d1-47e7-9a6d-d54530e5b2c5"
      },
      "outputs": [],
      "source": [
        "from tensorflow.keras.models import Sequential\n",
        "from tensorflow.keras.layers import Embedding, Bidirectional, LSTM, Dense\n",
        "from tensorflow.keras.optimizers import Adam"
      ]
    },
    {
      "cell_type": "code",
      "execution_count": null,
      "id": "05bf8fa7-c5a1-479f-9678-981c2dcfff52",
      "metadata": {
        "colab": {
          "base_uri": "https://localhost:8080/",
          "height": 280
        },
        "id": "05bf8fa7-c5a1-479f-9678-981c2dcfff52",
        "outputId": "bbf31ab1-777b-4a00-8d05-d8d8f0c50b12"
      },
      "outputs": [
        {
          "output_type": "stream",
          "name": "stderr",
          "text": [
            "/usr/local/lib/python3.11/dist-packages/keras/src/layers/core/embedding.py:93: UserWarning: Do not pass an `input_shape`/`input_dim` argument to a layer. When using Sequential models, prefer using an `Input(shape)` object as the first layer in the model instead.\n",
            "  super().__init__(**kwargs)\n"
          ]
        },
        {
          "output_type": "display_data",
          "data": {
            "text/plain": [
              "\u001b[1mModel: \"sequential_3\"\u001b[0m\n"
            ],
            "text/html": [
              "<pre style=\"white-space:pre;overflow-x:auto;line-height:normal;font-family:Menlo,'DejaVu Sans Mono',consolas,'Courier New',monospace\"><span style=\"font-weight: bold\">Model: \"sequential_3\"</span>\n",
              "</pre>\n"
            ]
          },
          "metadata": {}
        },
        {
          "output_type": "display_data",
          "data": {
            "text/plain": [
              "┏━━━━━━━━━━━━━━━━━━━━━━━━━━━━━━━━━┳━━━━━━━━━━━━━━━━━━━━━━━━┳━━━━━━━━━━━━━━━┓\n",
              "┃\u001b[1m \u001b[0m\u001b[1mLayer (type)                   \u001b[0m\u001b[1m \u001b[0m┃\u001b[1m \u001b[0m\u001b[1mOutput Shape          \u001b[0m\u001b[1m \u001b[0m┃\u001b[1m \u001b[0m\u001b[1m      Param #\u001b[0m\u001b[1m \u001b[0m┃\n",
              "┡━━━━━━━━━━━━━━━━━━━━━━━━━━━━━━━━━╇━━━━━━━━━━━━━━━━━━━━━━━━╇━━━━━━━━━━━━━━━┩\n",
              "│ embedding_3 (\u001b[38;5;33mEmbedding\u001b[0m)         │ (\u001b[38;5;45mNone\u001b[0m, \u001b[38;5;34m19\u001b[0m, \u001b[38;5;34m100\u001b[0m)        │       \u001b[38;5;34m892,300\u001b[0m │\n",
              "├─────────────────────────────────┼────────────────────────┼───────────────┤\n",
              "│ bidirectional_3 (\u001b[38;5;33mBidirectional\u001b[0m) │ (\u001b[38;5;45mNone\u001b[0m, \u001b[38;5;34m1024\u001b[0m)           │     \u001b[38;5;34m2,510,848\u001b[0m │\n",
              "├─────────────────────────────────┼────────────────────────┼───────────────┤\n",
              "│ dense_3 (\u001b[38;5;33mDense\u001b[0m)                 │ (\u001b[38;5;45mNone\u001b[0m, \u001b[38;5;34m8923\u001b[0m)           │     \u001b[38;5;34m9,146,075\u001b[0m │\n",
              "└─────────────────────────────────┴────────────────────────┴───────────────┘\n"
            ],
            "text/html": [
              "<pre style=\"white-space:pre;overflow-x:auto;line-height:normal;font-family:Menlo,'DejaVu Sans Mono',consolas,'Courier New',monospace\">┏━━━━━━━━━━━━━━━━━━━━━━━━━━━━━━━━━┳━━━━━━━━━━━━━━━━━━━━━━━━┳━━━━━━━━━━━━━━━┓\n",
              "┃<span style=\"font-weight: bold\"> Layer (type)                    </span>┃<span style=\"font-weight: bold\"> Output Shape           </span>┃<span style=\"font-weight: bold\">       Param # </span>┃\n",
              "┡━━━━━━━━━━━━━━━━━━━━━━━━━━━━━━━━━╇━━━━━━━━━━━━━━━━━━━━━━━━╇━━━━━━━━━━━━━━━┩\n",
              "│ embedding_3 (<span style=\"color: #0087ff; text-decoration-color: #0087ff\">Embedding</span>)         │ (<span style=\"color: #00d7ff; text-decoration-color: #00d7ff\">None</span>, <span style=\"color: #00af00; text-decoration-color: #00af00\">19</span>, <span style=\"color: #00af00; text-decoration-color: #00af00\">100</span>)        │       <span style=\"color: #00af00; text-decoration-color: #00af00\">892,300</span> │\n",
              "├─────────────────────────────────┼────────────────────────┼───────────────┤\n",
              "│ bidirectional_3 (<span style=\"color: #0087ff; text-decoration-color: #0087ff\">Bidirectional</span>) │ (<span style=\"color: #00d7ff; text-decoration-color: #00d7ff\">None</span>, <span style=\"color: #00af00; text-decoration-color: #00af00\">1024</span>)           │     <span style=\"color: #00af00; text-decoration-color: #00af00\">2,510,848</span> │\n",
              "├─────────────────────────────────┼────────────────────────┼───────────────┤\n",
              "│ dense_3 (<span style=\"color: #0087ff; text-decoration-color: #0087ff\">Dense</span>)                 │ (<span style=\"color: #00d7ff; text-decoration-color: #00d7ff\">None</span>, <span style=\"color: #00af00; text-decoration-color: #00af00\">8923</span>)           │     <span style=\"color: #00af00; text-decoration-color: #00af00\">9,146,075</span> │\n",
              "└─────────────────────────────────┴────────────────────────┴───────────────┘\n",
              "</pre>\n"
            ]
          },
          "metadata": {}
        },
        {
          "output_type": "display_data",
          "data": {
            "text/plain": [
              "\u001b[1m Total params: \u001b[0m\u001b[38;5;34m12,549,223\u001b[0m (47.87 MB)\n"
            ],
            "text/html": [
              "<pre style=\"white-space:pre;overflow-x:auto;line-height:normal;font-family:Menlo,'DejaVu Sans Mono',consolas,'Courier New',monospace\"><span style=\"font-weight: bold\"> Total params: </span><span style=\"color: #00af00; text-decoration-color: #00af00\">12,549,223</span> (47.87 MB)\n",
              "</pre>\n"
            ]
          },
          "metadata": {}
        },
        {
          "output_type": "display_data",
          "data": {
            "text/plain": [
              "\u001b[1m Trainable params: \u001b[0m\u001b[38;5;34m12,549,223\u001b[0m (47.87 MB)\n"
            ],
            "text/html": [
              "<pre style=\"white-space:pre;overflow-x:auto;line-height:normal;font-family:Menlo,'DejaVu Sans Mono',consolas,'Courier New',monospace\"><span style=\"font-weight: bold\"> Trainable params: </span><span style=\"color: #00af00; text-decoration-color: #00af00\">12,549,223</span> (47.87 MB)\n",
              "</pre>\n"
            ]
          },
          "metadata": {}
        },
        {
          "output_type": "display_data",
          "data": {
            "text/plain": [
              "\u001b[1m Non-trainable params: \u001b[0m\u001b[38;5;34m0\u001b[0m (0.00 B)\n"
            ],
            "text/html": [
              "<pre style=\"white-space:pre;overflow-x:auto;line-height:normal;font-family:Menlo,'DejaVu Sans Mono',consolas,'Courier New',monospace\"><span style=\"font-weight: bold\"> Non-trainable params: </span><span style=\"color: #00af00; text-decoration-color: #00af00\">0</span> (0.00 B)\n",
              "</pre>\n"
            ]
          },
          "metadata": {}
        }
      ],
      "source": [
        "model = Sequential()\n",
        "model.add(Embedding(vocab_size, 100, input_shape=(max_seq_len-1,)))\n",
        "model.add(Bidirectional(LSTM(512)))\n",
        "model.add(Dense(vocab_size, activation='softmax'))\n",
        "adam = Adam(learning_rate=0.01)\n",
        "model.compile(loss='sparse_categorical_crossentropy', optimizer=adam, metrics=['accuracy'])\n",
        "model.summary()"
      ]
    },
    {
      "cell_type": "code",
      "execution_count": null,
      "id": "147cdad4-98b9-4905-80ce-fff9d248aac2",
      "metadata": {
        "id": "147cdad4-98b9-4905-80ce-fff9d248aac2"
      },
      "outputs": [],
      "source": [
        "from tensorflow.keras.callbacks import ReduceLROnPlateau\n",
        "from tensorflow.keras.callbacks import ModelCheckpoint\n",
        "from tensorflow.keras.callbacks import ReduceLROnPlateau\n",
        "from tensorflow.keras.callbacks import LearningRateScheduler\n",
        "\n",
        "es = EarlyStopping(monitor = 'accuracy', patience=5, min_delta = 0.01,restore_best_weights=True)\n",
        "lr_reducer = ReduceLROnPlateau(monitor='accuracy',factor=0.5, patience=2,verbose=1)\n",
        "checkpoint = ModelCheckpoint('best_model.keras', monitor='accuracy',save_best_only=True,mode='max',verbose=1)"
      ]
    },
    {
      "cell_type": "code",
      "execution_count": null,
      "id": "d84a74c8-4da9-41a5-a69c-60c350c94a26",
      "metadata": {
        "colab": {
          "base_uri": "https://localhost:8080/"
        },
        "id": "d84a74c8-4da9-41a5-a69c-60c350c94a26",
        "outputId": "ed9cb45e-624c-4e9e-8ab5-ceaa3c2c55ab"
      },
      "outputs": [
        {
          "output_type": "stream",
          "name": "stdout",
          "text": [
            "Epoch 1/50\n",
            "\u001b[1m109/109\u001b[0m \u001b[32m━━━━━━━━━━━━━━━━━━━━\u001b[0m\u001b[37m\u001b[0m \u001b[1m0s\u001b[0m 129ms/step - accuracy: 0.0539 - loss: 6.9047\n",
            "Epoch 1: accuracy improved from -inf to 0.07441, saving model to best_model.keras\n",
            "\u001b[1m109/109\u001b[0m \u001b[32m━━━━━━━━━━━━━━━━━━━━\u001b[0m\u001b[37m\u001b[0m \u001b[1m17s\u001b[0m 136ms/step - accuracy: 0.0541 - loss: 6.9005 - learning_rate: 0.0100\n",
            "Epoch 2/50\n",
            "\u001b[1m109/109\u001b[0m \u001b[32m━━━━━━━━━━━━━━━━━━━━\u001b[0m\u001b[37m\u001b[0m \u001b[1m0s\u001b[0m 132ms/step - accuracy: 0.1248 - loss: 5.5952\n",
            "Epoch 2: accuracy improved from 0.07441 to 0.12820, saving model to best_model.keras\n",
            "\u001b[1m109/109\u001b[0m \u001b[32m━━━━━━━━━━━━━━━━━━━━\u001b[0m\u001b[37m\u001b[0m \u001b[1m15s\u001b[0m 140ms/step - accuracy: 0.1248 - loss: 5.5949 - learning_rate: 0.0100\n",
            "Epoch 3/50\n",
            "\u001b[1m109/109\u001b[0m \u001b[32m━━━━━━━━━━━━━━━━━━━━\u001b[0m\u001b[37m\u001b[0m \u001b[1m0s\u001b[0m 136ms/step - accuracy: 0.1586 - loss: 5.0053\n",
            "Epoch 3: accuracy improved from 0.12820 to 0.15689, saving model to best_model.keras\n",
            "\u001b[1m109/109\u001b[0m \u001b[32m━━━━━━━━━━━━━━━━━━━━\u001b[0m\u001b[37m\u001b[0m \u001b[1m21s\u001b[0m 142ms/step - accuracy: 0.1585 - loss: 5.0056 - learning_rate: 0.0100\n",
            "Epoch 4/50\n",
            "\u001b[1m109/109\u001b[0m \u001b[32m━━━━━━━━━━━━━━━━━━━━\u001b[0m\u001b[37m\u001b[0m \u001b[1m0s\u001b[0m 140ms/step - accuracy: 0.1907 - loss: 4.4641\n",
            "Epoch 4: accuracy improved from 0.15689 to 0.18240, saving model to best_model.keras\n",
            "\u001b[1m109/109\u001b[0m \u001b[32m━━━━━━━━━━━━━━━━━━━━\u001b[0m\u001b[37m\u001b[0m \u001b[1m16s\u001b[0m 147ms/step - accuracy: 0.1906 - loss: 4.4652 - learning_rate: 0.0100\n",
            "Epoch 5/50\n",
            "\u001b[1m109/109\u001b[0m \u001b[32m━━━━━━━━━━━━━━━━━━━━\u001b[0m\u001b[37m\u001b[0m \u001b[1m0s\u001b[0m 140ms/step - accuracy: 0.2373 - loss: 3.9372\n",
            "Epoch 5: accuracy improved from 0.18240 to 0.22215, saving model to best_model.keras\n",
            "\u001b[1m109/109\u001b[0m \u001b[32m━━━━━━━━━━━━━━━━━━━━\u001b[0m\u001b[37m\u001b[0m \u001b[1m16s\u001b[0m 146ms/step - accuracy: 0.2371 - loss: 3.9383 - learning_rate: 0.0100\n",
            "Epoch 6/50\n",
            "\u001b[1m109/109\u001b[0m \u001b[32m━━━━━━━━━━━━━━━━━━━━\u001b[0m\u001b[37m\u001b[0m \u001b[1m0s\u001b[0m 134ms/step - accuracy: 0.3028 - loss: 3.4365\n",
            "Epoch 6: accuracy improved from 0.22215 to 0.27936, saving model to best_model.keras\n",
            "\u001b[1m109/109\u001b[0m \u001b[32m━━━━━━━━━━━━━━━━━━━━\u001b[0m\u001b[37m\u001b[0m \u001b[1m20s\u001b[0m 141ms/step - accuracy: 0.3026 - loss: 3.4378 - learning_rate: 0.0100\n",
            "Epoch 7/50\n",
            "\u001b[1m109/109\u001b[0m \u001b[32m━━━━━━━━━━━━━━━━━━━━\u001b[0m\u001b[37m\u001b[0m \u001b[1m0s\u001b[0m 136ms/step - accuracy: 0.3628 - loss: 3.0537\n",
            "Epoch 7: accuracy improved from 0.27936 to 0.33542, saving model to best_model.keras\n",
            "\u001b[1m109/109\u001b[0m \u001b[32m━━━━━━━━━━━━━━━━━━━━\u001b[0m\u001b[37m\u001b[0m \u001b[1m21s\u001b[0m 142ms/step - accuracy: 0.3625 - loss: 3.0550 - learning_rate: 0.0100\n",
            "Epoch 8/50\n",
            "\u001b[1m109/109\u001b[0m \u001b[32m━━━━━━━━━━━━━━━━━━━━\u001b[0m\u001b[37m\u001b[0m \u001b[1m0s\u001b[0m 139ms/step - accuracy: 0.4261 - loss: 2.7259\n",
            "Epoch 8: accuracy improved from 0.33542 to 0.39522, saving model to best_model.keras\n",
            "\u001b[1m109/109\u001b[0m \u001b[32m━━━━━━━━━━━━━━━━━━━━\u001b[0m\u001b[37m\u001b[0m \u001b[1m21s\u001b[0m 145ms/step - accuracy: 0.4258 - loss: 2.7272 - learning_rate: 0.0100\n",
            "Epoch 9/50\n",
            "\u001b[1m109/109\u001b[0m \u001b[32m━━━━━━━━━━━━━━━━━━━━\u001b[0m\u001b[37m\u001b[0m \u001b[1m0s\u001b[0m 138ms/step - accuracy: 0.4723 - loss: 2.4814\n",
            "Epoch 9: accuracy improved from 0.39522 to 0.43988, saving model to best_model.keras\n",
            "\u001b[1m109/109\u001b[0m \u001b[32m━━━━━━━━━━━━━━━━━━━━\u001b[0m\u001b[37m\u001b[0m \u001b[1m20s\u001b[0m 144ms/step - accuracy: 0.4720 - loss: 2.4827 - learning_rate: 0.0100\n",
            "Epoch 10/50\n",
            "\u001b[1m109/109\u001b[0m \u001b[32m━━━━━━━━━━━━━━━━━━━━\u001b[0m\u001b[37m\u001b[0m \u001b[1m0s\u001b[0m 135ms/step - accuracy: 0.5105 - loss: 2.2868\n",
            "Epoch 10: accuracy improved from 0.43988 to 0.47696, saving model to best_model.keras\n",
            "\u001b[1m109/109\u001b[0m \u001b[32m━━━━━━━━━━━━━━━━━━━━\u001b[0m\u001b[37m\u001b[0m \u001b[1m20s\u001b[0m 143ms/step - accuracy: 0.5102 - loss: 2.2881 - learning_rate: 0.0100\n",
            "Epoch 11/50\n",
            "\u001b[1m109/109\u001b[0m \u001b[32m━━━━━━━━━━━━━━━━━━━━\u001b[0m\u001b[37m\u001b[0m \u001b[1m0s\u001b[0m 137ms/step - accuracy: 0.5376 - loss: 2.1514\n",
            "Epoch 11: accuracy improved from 0.47696 to 0.50426, saving model to best_model.keras\n",
            "\u001b[1m109/109\u001b[0m \u001b[32m━━━━━━━━━━━━━━━━━━━━\u001b[0m\u001b[37m\u001b[0m \u001b[1m20s\u001b[0m 143ms/step - accuracy: 0.5373 - loss: 2.1527 - learning_rate: 0.0100\n",
            "Epoch 12/50\n",
            "\u001b[1m109/109\u001b[0m \u001b[32m━━━━━━━━━━━━━━━━━━━━\u001b[0m\u001b[37m\u001b[0m \u001b[1m0s\u001b[0m 139ms/step - accuracy: 0.5595 - loss: 2.0365\n",
            "Epoch 12: accuracy improved from 0.50426 to 0.52774, saving model to best_model.keras\n",
            "\u001b[1m109/109\u001b[0m \u001b[32m━━━━━━━━━━━━━━━━━━━━\u001b[0m\u001b[37m\u001b[0m \u001b[1m16s\u001b[0m 146ms/step - accuracy: 0.5592 - loss: 2.0378 - learning_rate: 0.0100\n",
            "Epoch 13/50\n",
            "\u001b[1m109/109\u001b[0m \u001b[32m━━━━━━━━━━━━━━━━━━━━\u001b[0m\u001b[37m\u001b[0m \u001b[1m0s\u001b[0m 134ms/step - accuracy: 0.5847 - loss: 1.9310\n",
            "Epoch 13: accuracy improved from 0.52774 to 0.54831, saving model to best_model.keras\n",
            "\u001b[1m109/109\u001b[0m \u001b[32m━━━━━━━━━━━━━━━━━━━━\u001b[0m\u001b[37m\u001b[0m \u001b[1m20s\u001b[0m 141ms/step - accuracy: 0.5843 - loss: 1.9323 - learning_rate: 0.0100\n",
            "Epoch 14/50\n",
            "\u001b[1m109/109\u001b[0m \u001b[32m━━━━━━━━━━━━━━━━━━━━\u001b[0m\u001b[37m\u001b[0m \u001b[1m0s\u001b[0m 136ms/step - accuracy: 0.5946 - loss: 1.8683\n",
            "Epoch 14: accuracy improved from 0.54831 to 0.56057, saving model to best_model.keras\n",
            "\u001b[1m109/109\u001b[0m \u001b[32m━━━━━━━━━━━━━━━━━━━━\u001b[0m\u001b[37m\u001b[0m \u001b[1m21s\u001b[0m 143ms/step - accuracy: 0.5943 - loss: 1.8696 - learning_rate: 0.0100\n",
            "Epoch 15/50\n",
            "\u001b[1m109/109\u001b[0m \u001b[32m━━━━━━━━━━━━━━━━━━━━\u001b[0m\u001b[37m\u001b[0m \u001b[1m0s\u001b[0m 139ms/step - accuracy: 0.5994 - loss: 1.8384\n",
            "Epoch 15: accuracy improved from 0.56057 to 0.56576, saving model to best_model.keras\n",
            "\u001b[1m109/109\u001b[0m \u001b[32m━━━━━━━━━━━━━━━━━━━━\u001b[0m\u001b[37m\u001b[0m \u001b[1m16s\u001b[0m 146ms/step - accuracy: 0.5991 - loss: 1.8396 - learning_rate: 0.0100\n",
            "Epoch 16/50\n",
            "\u001b[1m109/109\u001b[0m \u001b[32m━━━━━━━━━━━━━━━━━━━━\u001b[0m\u001b[37m\u001b[0m \u001b[1m0s\u001b[0m 135ms/step - accuracy: 0.6076 - loss: 1.7915\n",
            "Epoch 16: accuracy improved from 0.56576 to 0.57509, saving model to best_model.keras\n",
            "\u001b[1m109/109\u001b[0m \u001b[32m━━━━━━━━━━━━━━━━━━━━\u001b[0m\u001b[37m\u001b[0m \u001b[1m20s\u001b[0m 141ms/step - accuracy: 0.6073 - loss: 1.7927 - learning_rate: 0.0100\n",
            "Epoch 17/50\n",
            "\u001b[1m109/109\u001b[0m \u001b[32m━━━━━━━━━━━━━━━━━━━━\u001b[0m\u001b[37m\u001b[0m \u001b[1m0s\u001b[0m 136ms/step - accuracy: 0.6145 - loss: 1.7677\n",
            "Epoch 17: accuracy improved from 0.57509 to 0.58446, saving model to best_model.keras\n",
            "\u001b[1m109/109\u001b[0m \u001b[32m━━━━━━━━━━━━━━━━━━━━\u001b[0m\u001b[37m\u001b[0m \u001b[1m15s\u001b[0m 142ms/step - accuracy: 0.6142 - loss: 1.7687 - learning_rate: 0.0100\n",
            "Epoch 18/50\n",
            "\u001b[1m109/109\u001b[0m \u001b[32m━━━━━━━━━━━━━━━━━━━━\u001b[0m\u001b[37m\u001b[0m \u001b[1m0s\u001b[0m 135ms/step - accuracy: 0.6225 - loss: 1.7317\n",
            "Epoch 18: accuracy improved from 0.58446 to 0.58927, saving model to best_model.keras\n",
            "\u001b[1m109/109\u001b[0m \u001b[32m━━━━━━━━━━━━━━━━━━━━\u001b[0m\u001b[37m\u001b[0m \u001b[1m20s\u001b[0m 141ms/step - accuracy: 0.6222 - loss: 1.7329 - learning_rate: 0.0100\n",
            "Epoch 19/50\n",
            "\u001b[1m109/109\u001b[0m \u001b[32m━━━━━━━━━━━━━━━━━━━━\u001b[0m\u001b[37m\u001b[0m \u001b[1m0s\u001b[0m 137ms/step - accuracy: 0.6208 - loss: 1.7230\n",
            "Epoch 19: accuracy did not improve from 0.58927\n",
            "\u001b[1m109/109\u001b[0m \u001b[32m━━━━━━━━━━━━━━━━━━━━\u001b[0m\u001b[37m\u001b[0m \u001b[1m20s\u001b[0m 138ms/step - accuracy: 0.6205 - loss: 1.7241 - learning_rate: 0.0100\n",
            "Epoch 20/50\n",
            "\u001b[1m109/109\u001b[0m \u001b[32m━━━━━━━━━━━━━━━━━━━━\u001b[0m\u001b[37m\u001b[0m \u001b[1m0s\u001b[0m 137ms/step - accuracy: 0.6252 - loss: 1.7002\n",
            "Epoch 20: accuracy improved from 0.58927 to 0.59218, saving model to best_model.keras\n",
            "\u001b[1m109/109\u001b[0m \u001b[32m━━━━━━━━━━━━━━━━━━━━\u001b[0m\u001b[37m\u001b[0m \u001b[1m21s\u001b[0m 143ms/step - accuracy: 0.6249 - loss: 1.7015 - learning_rate: 0.0100\n",
            "Epoch 21/50\n",
            "\u001b[1m109/109\u001b[0m \u001b[32m━━━━━━━━━━━━━━━━━━━━\u001b[0m\u001b[37m\u001b[0m \u001b[1m0s\u001b[0m 137ms/step - accuracy: 0.6207 - loss: 1.7118\n",
            "Epoch 21: accuracy did not improve from 0.59218\n",
            "\u001b[1m109/109\u001b[0m \u001b[32m━━━━━━━━━━━━━━━━━━━━\u001b[0m\u001b[37m\u001b[0m \u001b[1m15s\u001b[0m 137ms/step - accuracy: 0.6204 - loss: 1.7129 - learning_rate: 0.0100\n",
            "Epoch 22/50\n",
            "\u001b[1m109/109\u001b[0m \u001b[32m━━━━━━━━━━━━━━━━━━━━\u001b[0m\u001b[37m\u001b[0m \u001b[1m0s\u001b[0m 133ms/step - accuracy: 0.6245 - loss: 1.7039\n",
            "Epoch 22: ReduceLROnPlateau reducing learning rate to 0.004999999888241291.\n",
            "\n",
            "Epoch 22: accuracy did not improve from 0.59218\n",
            "\u001b[1m109/109\u001b[0m \u001b[32m━━━━━━━━━━━━━━━━━━━━\u001b[0m\u001b[37m\u001b[0m \u001b[1m20s\u001b[0m 134ms/step - accuracy: 0.6242 - loss: 1.7051 - learning_rate: 0.0100\n",
            "Epoch 23/50\n",
            "\u001b[1m109/109\u001b[0m \u001b[32m━━━━━━━━━━━━━━━━━━━━\u001b[0m\u001b[37m\u001b[0m \u001b[1m0s\u001b[0m 137ms/step - accuracy: 0.6609 - loss: 1.5499\n",
            "Epoch 23: accuracy improved from 0.59218 to 0.66367, saving model to best_model.keras\n",
            "\u001b[1m109/109\u001b[0m \u001b[32m━━━━━━━━━━━━━━━━━━━━\u001b[0m\u001b[37m\u001b[0m \u001b[1m21s\u001b[0m 143ms/step - accuracy: 0.6610 - loss: 1.5498 - learning_rate: 0.0050\n",
            "Epoch 24/50\n",
            "\u001b[1m109/109\u001b[0m \u001b[32m━━━━━━━━━━━━━━━━━━━━\u001b[0m\u001b[37m\u001b[0m \u001b[1m0s\u001b[0m 139ms/step - accuracy: 0.7587 - loss: 1.2286\n",
            "Epoch 24: accuracy improved from 0.66367 to 0.75125, saving model to best_model.keras\n",
            "\u001b[1m109/109\u001b[0m \u001b[32m━━━━━━━━━━━━━━━━━━━━\u001b[0m\u001b[37m\u001b[0m \u001b[1m16s\u001b[0m 146ms/step - accuracy: 0.7587 - loss: 1.2288 - learning_rate: 0.0050\n",
            "Epoch 25/50\n",
            "\u001b[1m109/109\u001b[0m \u001b[32m━━━━━━━━━━━━━━━━━━━━\u001b[0m\u001b[37m\u001b[0m \u001b[1m0s\u001b[0m 134ms/step - accuracy: 0.7989 - loss: 1.0945\n",
            "Epoch 25: accuracy improved from 0.75125 to 0.79246, saving model to best_model.keras\n",
            "\u001b[1m109/109\u001b[0m \u001b[32m━━━━━━━━━━━━━━━━━━━━\u001b[0m\u001b[37m\u001b[0m \u001b[1m20s\u001b[0m 140ms/step - accuracy: 0.7988 - loss: 1.0947 - learning_rate: 0.0050\n",
            "Epoch 26/50\n",
            "\u001b[1m109/109\u001b[0m \u001b[32m━━━━━━━━━━━━━━━━━━━━\u001b[0m\u001b[37m\u001b[0m \u001b[1m0s\u001b[0m 135ms/step - accuracy: 0.8203 - loss: 1.0093\n",
            "Epoch 26: accuracy improved from 0.79246 to 0.81515, saving model to best_model.keras\n",
            "\u001b[1m109/109\u001b[0m \u001b[32m━━━━━━━━━━━━━━━━━━━━\u001b[0m\u001b[37m\u001b[0m \u001b[1m21s\u001b[0m 141ms/step - accuracy: 0.8203 - loss: 1.0095 - learning_rate: 0.0050\n",
            "Epoch 27/50\n",
            "\u001b[1m109/109\u001b[0m \u001b[32m━━━━━━━━━━━━━━━━━━━━\u001b[0m\u001b[37m\u001b[0m \u001b[1m0s\u001b[0m 137ms/step - accuracy: 0.8303 - loss: 0.9624\n",
            "Epoch 27: accuracy improved from 0.81515 to 0.82533, saving model to best_model.keras\n",
            "\u001b[1m109/109\u001b[0m \u001b[32m━━━━━━━━━━━━━━━━━━━━\u001b[0m\u001b[37m\u001b[0m \u001b[1m21s\u001b[0m 144ms/step - accuracy: 0.8303 - loss: 0.9627 - learning_rate: 0.0050\n",
            "Epoch 28/50\n",
            "\u001b[1m109/109\u001b[0m \u001b[32m━━━━━━━━━━━━━━━━━━━━\u001b[0m\u001b[37m\u001b[0m \u001b[1m0s\u001b[0m 136ms/step - accuracy: 0.8334 - loss: 0.9383\n",
            "Epoch 28: accuracy improved from 0.82533 to 0.82949, saving model to best_model.keras\n",
            "\u001b[1m109/109\u001b[0m \u001b[32m━━━━━━━━━━━━━━━━━━━━\u001b[0m\u001b[37m\u001b[0m \u001b[1m20s\u001b[0m 144ms/step - accuracy: 0.8334 - loss: 0.9385 - learning_rate: 0.0050\n",
            "Epoch 29/50\n",
            "\u001b[1m109/109\u001b[0m \u001b[32m━━━━━━━━━━━━━━━━━━━━\u001b[0m\u001b[37m\u001b[0m \u001b[1m0s\u001b[0m 135ms/step - accuracy: 0.8363 - loss: 0.9135\n",
            "Epoch 29: accuracy improved from 0.82949 to 0.83207, saving model to best_model.keras\n",
            "\u001b[1m109/109\u001b[0m \u001b[32m━━━━━━━━━━━━━━━━━━━━\u001b[0m\u001b[37m\u001b[0m \u001b[1m20s\u001b[0m 141ms/step - accuracy: 0.8362 - loss: 0.9137 - learning_rate: 0.0050\n",
            "Epoch 30/50\n",
            "\u001b[1m109/109\u001b[0m \u001b[32m━━━━━━━━━━━━━━━━━━━━\u001b[0m\u001b[37m\u001b[0m \u001b[1m0s\u001b[0m 135ms/step - accuracy: 0.8362 - loss: 0.9085\n",
            "Epoch 30: accuracy improved from 0.83207 to 0.83259, saving model to best_model.keras\n",
            "\u001b[1m109/109\u001b[0m \u001b[32m━━━━━━━━━━━━━━━━━━━━\u001b[0m\u001b[37m\u001b[0m \u001b[1m20s\u001b[0m 141ms/step - accuracy: 0.8361 - loss: 0.9086 - learning_rate: 0.0050\n",
            "Epoch 31/50\n",
            "\u001b[1m109/109\u001b[0m \u001b[32m━━━━━━━━━━━━━━━━━━━━\u001b[0m\u001b[37m\u001b[0m \u001b[1m0s\u001b[0m 136ms/step - accuracy: 0.8399 - loss: 0.8811\n",
            "Epoch 31: accuracy improved from 0.83259 to 0.83409, saving model to best_model.keras\n",
            "\u001b[1m109/109\u001b[0m \u001b[32m━━━━━━━━━━━━━━━━━━━━\u001b[0m\u001b[37m\u001b[0m \u001b[1m21s\u001b[0m 142ms/step - accuracy: 0.8398 - loss: 0.8814 - learning_rate: 0.0050\n",
            "Epoch 32/50\n",
            "\u001b[1m109/109\u001b[0m \u001b[32m━━━━━━━━━━━━━━━━━━━━\u001b[0m\u001b[37m\u001b[0m \u001b[1m0s\u001b[0m 136ms/step - accuracy: 0.8399 - loss: 0.8759\n",
            "Epoch 32: accuracy did not improve from 0.83409\n",
            "\u001b[1m109/109\u001b[0m \u001b[32m━━━━━━━━━━━━━━━━━━━━\u001b[0m\u001b[37m\u001b[0m \u001b[1m20s\u001b[0m 137ms/step - accuracy: 0.8398 - loss: 0.8762 - learning_rate: 0.0050\n"
          ]
        }
      ],
      "source": [
        "history = model.fit(x,y,epochs=50,verbose=1,batch_size=1024,callbacks=[es,lr_reducer,checkpoint])"
      ]
    },
    {
      "cell_type": "code",
      "execution_count": null,
      "id": "aeb45ffc-d761-4f1a-ba8a-46906fdf10c2",
      "metadata": {
        "colab": {
          "base_uri": "https://localhost:8080/"
        },
        "id": "aeb45ffc-d761-4f1a-ba8a-46906fdf10c2",
        "outputId": "c70c59dd-27eb-4266-b533-40cfe7837460"
      },
      "outputs": [
        {
          "output_type": "stream",
          "name": "stdout",
          "text": [
            "I could not help laughing at the ease with which he explained his process of deduction. and i have seen in the way i shall take a cab and go as we may be be a silent and takes the man i have myself leave the wall i see a chinese coin hanging my head and saw a shadow of the room and a landau as i could see a change i at a careful and he was a man with a very deep “g” and above a woman of his time and was a head of a loafer of our friend with a hunting and though he was a of me i thought that i\n"
          ]
        }
      ],
      "source": [
        "import numpy as np\n",
        "from keras.preprocessing.sequence import pad_sequences\n",
        "\n",
        "seed_text = 'I could not help laughing at the ease with which he explained his process of deduction.'\n",
        "next_words = 100\n",
        "\n",
        "for _ in range(next_words):\n",
        "    seq = tokenizer.texts_to_sequences([seed_text])[0]\n",
        "    padded_seq = pad_sequences([seq], maxlen=max_seq_len-1)\n",
        "    predicted_probs = model.predict(padded_seq, verbose=0)\n",
        "    predicted_index = np.argmax(predicted_probs)\n",
        "\n",
        "    output_word = tokenizer.index_word.get(predicted_index, '')\n",
        "    if output_word == '':\n",
        "        break\n",
        "\n",
        "    seed_text += ' ' + output_word\n",
        "\n",
        "print(seed_text)"
      ]
    },
    {
      "cell_type": "code",
      "source": [
        "history.history.keys()"
      ],
      "metadata": {
        "colab": {
          "base_uri": "https://localhost:8080/"
        },
        "id": "5u3Lu9v6LlD5",
        "outputId": "587152c4-8136-483b-e999-a00d2955d4f2"
      },
      "id": "5u3Lu9v6LlD5",
      "execution_count": null,
      "outputs": [
        {
          "output_type": "execute_result",
          "data": {
            "text/plain": [
              "dict_keys(['accuracy', 'loss', 'learning_rate'])"
            ]
          },
          "metadata": {},
          "execution_count": 37
        }
      ]
    },
    {
      "cell_type": "code",
      "source": [
        "import matplotlib.pyplot as plt\n",
        "import seaborn as sns\n",
        "sns.set()\n",
        "acc = history.history['accuracy']\n",
        "loss = history.history['loss']\n",
        "\n",
        "epochs = range(len(acc))\n",
        "\n",
        "plt.plot(epochs, acc, 'b', label='Training accuracy')\n",
        "plt.title('Training accuracy')\n",
        "\n",
        "plt.figure()\n",
        "\n",
        "plt.plot(epochs, loss, 'r', label='Training Loss')\n",
        "plt.title('Training loss')\n",
        "plt.legend()\n",
        "\n",
        "plt.show()"
      ],
      "metadata": {
        "colab": {
          "base_uri": "https://localhost:8080/",
          "height": 897
        },
        "id": "MCRCMCdIFCJE",
        "outputId": "1398a7c7-b093-4bfb-dbbe-14795fd6e671"
      },
      "id": "MCRCMCdIFCJE",
      "execution_count": null,
      "outputs": [
        {
          "output_type": "display_data",
          "data": {
            "text/plain": [
              "<Figure size 640x480 with 1 Axes>"
            ],
            "image/png": "[encoded data removed]"
          },
          "metadata": {}
        },
        {
          "output_type": "display_data",
          "data": {
            "text/plain": [
              "<Figure size 640x480 with 1 Axes>"
            ],
            "image/png": "[encoded data removed]"
          },
          "metadata": {}
        }
      ]
    },
    {
      "cell_type": "code",
      "source": [],
      "metadata": {
        "id": "tJgyxpOUHzn4"
      },
      "id": "tJgyxpOUHzn4",
      "execution_count": null,
      "outputs": []
    }
  ],
  "metadata": {
    "kernelspec": {
      "display_name": "Python 3",
      "name": "python3"
    },
    "language_info": {
      "codemirror_mode": {
        "name": "ipython",
        "version": 3
      },
      "file_extension": ".py",
      "mimetype": "text/x-python",
      "name": "python",
      "nbconvert_exporter": "python",
      "pygments_lexer": "ipython3",
      "version": "3.11.4"
    },
    "colab": {
      "provenance": [],
      "gpuType": "T4"
    },
    "accelerator": "GPU"
  },
  "nbformat": 4,
  "nbformat_minor": 5
}